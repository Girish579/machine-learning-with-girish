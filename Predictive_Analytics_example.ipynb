{
 "cells": [
  {
   "cell_type": "code",
   "execution_count": 2,
   "id": "7ec4b158-a97c-4fda-92c0-a9c77f8ae01a",
   "metadata": {},
   "outputs": [
    {
     "name": "stdout",
     "output_type": "stream",
     "text": [
      "Collecting pandas\n",
      "  Downloading pandas-2.2.3-cp313-cp313-win_amd64.whl.metadata (19 kB)\n",
      "Collecting numpy>=1.26.0 (from pandas)\n",
      "  Downloading numpy-2.1.3-cp313-cp313-win_amd64.whl.metadata (60 kB)\n",
      "Requirement already satisfied: python-dateutil>=2.8.2 in c:\\users\\girish\\appdata\\local\\programs\\python\\python313\\lib\\site-packages (from pandas) (2.9.0.post0)\n",
      "Collecting pytz>=2020.1 (from pandas)\n",
      "  Downloading pytz-2024.2-py2.py3-none-any.whl.metadata (22 kB)\n",
      "Collecting tzdata>=2022.7 (from pandas)\n",
      "  Downloading tzdata-2024.2-py2.py3-none-any.whl.metadata (1.4 kB)\n",
      "Requirement already satisfied: six>=1.5 in c:\\users\\girish\\appdata\\local\\programs\\python\\python313\\lib\\site-packages (from python-dateutil>=2.8.2->pandas) (1.16.0)\n",
      "Downloading pandas-2.2.3-cp313-cp313-win_amd64.whl (11.5 MB)\n",
      "   ---------------------------------------- 0.0/11.5 MB ? eta -:--:--\n",
      "   -------- ------------------------------- 2.4/11.5 MB 11.4 MB/s eta 0:00:01\n",
      "   ---------------- ----------------------- 4.7/11.5 MB 11.6 MB/s eta 0:00:01\n",
      "   ---------------------- ----------------- 6.6/11.5 MB 11.0 MB/s eta 0:00:01\n",
      "   ------------------------------ --------- 8.7/11.5 MB 10.8 MB/s eta 0:00:01\n",
      "   -------------------------------------- - 11.0/11.5 MB 11.0 MB/s eta 0:00:01\n",
      "   ---------------------------------------- 11.5/11.5 MB 10.6 MB/s eta 0:00:00\n",
      "Downloading numpy-2.1.3-cp313-cp313-win_amd64.whl (12.6 MB)\n",
      "   ---------------------------------------- 0.0/12.6 MB ? eta -:--:--\n",
      "   ------- -------------------------------- 2.4/12.6 MB 11.6 MB/s eta 0:00:01\n",
      "   -------------- ------------------------- 4.5/12.6 MB 11.5 MB/s eta 0:00:01\n",
      "   --------------------- ------------------ 6.8/12.6 MB 11.5 MB/s eta 0:00:01\n",
      "   ----------------------------- ---------- 9.2/12.6 MB 11.5 MB/s eta 0:00:01\n",
      "   ------------------------------------ --- 11.5/12.6 MB 11.6 MB/s eta 0:00:01\n",
      "   ---------------------------------------- 12.6/12.6 MB 11.1 MB/s eta 0:00:00\n",
      "Downloading pytz-2024.2-py2.py3-none-any.whl (508 kB)\n",
      "Downloading tzdata-2024.2-py2.py3-none-any.whl (346 kB)\n",
      "Installing collected packages: pytz, tzdata, numpy, pandas\n",
      "Successfully installed numpy-2.1.3 pandas-2.2.3 pytz-2024.2 tzdata-2024.2\n"
     ]
    },
    {
     "name": "stderr",
     "output_type": "stream",
     "text": [
      "\n",
      "[notice] A new release of pip is available: 24.2 -> 24.3.1\n",
      "[notice] To update, run: python.exe -m pip install --upgrade pip\n"
     ]
    }
   ],
   "source": [
    "! pip install pandas"
   ]
  },
  {
   "cell_type": "code",
   "execution_count": 4,
   "id": "7cb00666-980d-4c1d-9bc1-27f4278c2cfe",
   "metadata": {},
   "outputs": [
    {
     "name": "stdout",
     "output_type": "stream",
     "text": [
      "Collecting scikit-learn\n",
      "  Downloading scikit_learn-1.5.2-cp313-cp313-win_amd64.whl.metadata (13 kB)\n",
      "Requirement already satisfied: numpy>=1.19.5 in c:\\users\\girish\\appdata\\local\\programs\\python\\python313\\lib\\site-packages (from scikit-learn) (2.1.3)\n",
      "Collecting scipy>=1.6.0 (from scikit-learn)\n",
      "  Downloading scipy-1.14.1-cp313-cp313-win_amd64.whl.metadata (60 kB)\n",
      "Collecting joblib>=1.2.0 (from scikit-learn)\n",
      "  Downloading joblib-1.4.2-py3-none-any.whl.metadata (5.4 kB)\n",
      "Collecting threadpoolctl>=3.1.0 (from scikit-learn)\n",
      "  Downloading threadpoolctl-3.5.0-py3-none-any.whl.metadata (13 kB)\n",
      "Downloading scikit_learn-1.5.2-cp313-cp313-win_amd64.whl (11.0 MB)\n",
      "   ---------------------------------------- 0.0/11.0 MB ? eta -:--:--\n",
      "   ----- ---------------------------------- 1.6/11.0 MB 8.1 MB/s eta 0:00:02\n",
      "   ---------- ----------------------------- 2.9/11.0 MB 7.1 MB/s eta 0:00:02\n",
      "   ------------------ --------------------- 5.0/11.0 MB 8.3 MB/s eta 0:00:01\n",
      "   -------------------------- ------------- 7.3/11.0 MB 9.1 MB/s eta 0:00:01\n",
      "   ----------------------------------- ---- 9.7/11.0 MB 9.6 MB/s eta 0:00:01\n",
      "   ---------------------------------------  10.7/11.0 MB 9.4 MB/s eta 0:00:01\n",
      "   ---------------------------------------- 11.0/11.0 MB 8.3 MB/s eta 0:00:00\n",
      "Downloading joblib-1.4.2-py3-none-any.whl (301 kB)\n",
      "Downloading scipy-1.14.1-cp313-cp313-win_amd64.whl (44.5 MB)\n",
      "   ---------------------------------------- 0.0/44.5 MB ? eta -:--:--\n",
      "   -- ------------------------------------- 2.4/44.5 MB 11.5 MB/s eta 0:00:04\n",
      "   ---- ----------------------------------- 5.0/44.5 MB 11.6 MB/s eta 0:00:04\n",
      "   ------ --------------------------------- 7.1/44.5 MB 11.4 MB/s eta 0:00:04\n",
      "   -------- ------------------------------- 9.7/44.5 MB 11.6 MB/s eta 0:00:04\n",
      "   ---------- ----------------------------- 12.1/44.5 MB 11.6 MB/s eta 0:00:03\n",
      "   ------------ --------------------------- 14.4/44.5 MB 11.6 MB/s eta 0:00:03\n",
      "   --------------- ------------------------ 16.8/44.5 MB 11.6 MB/s eta 0:00:03\n",
      "   ----------------- ---------------------- 19.1/44.5 MB 11.6 MB/s eta 0:00:03\n",
      "   ------------------- -------------------- 21.5/44.5 MB 11.6 MB/s eta 0:00:02\n",
      "   --------------------- ------------------ 23.9/44.5 MB 11.6 MB/s eta 0:00:02\n",
      "   ----------------------- ---------------- 26.5/44.5 MB 11.6 MB/s eta 0:00:02\n",
      "   ------------------------- -------------- 28.6/44.5 MB 11.6 MB/s eta 0:00:02\n",
      "   --------------------------- ------------ 30.9/44.5 MB 11.6 MB/s eta 0:00:02\n",
      "   ----------------------------- ---------- 33.3/44.5 MB 11.6 MB/s eta 0:00:01\n",
      "   -------------------------------- ------- 35.7/44.5 MB 11.6 MB/s eta 0:00:01\n",
      "   ---------------------------------- ----- 38.3/44.5 MB 11.6 MB/s eta 0:00:01\n",
      "   ------------------------------------ --- 40.4/44.5 MB 11.6 MB/s eta 0:00:01\n",
      "   ------------------------------------- -- 42.2/44.5 MB 11.5 MB/s eta 0:00:01\n",
      "   ---------------------------------------  44.3/44.5 MB 11.4 MB/s eta 0:00:01\n",
      "   ---------------------------------------  44.3/44.5 MB 11.4 MB/s eta 0:00:01\n",
      "   ---------------------------------------  44.3/44.5 MB 11.4 MB/s eta 0:00:01\n",
      "   ---------------------------------------- 44.5/44.5 MB 10.1 MB/s eta 0:00:00\n",
      "Downloading threadpoolctl-3.5.0-py3-none-any.whl (18 kB)\n",
      "Installing collected packages: threadpoolctl, scipy, joblib, scikit-learn\n",
      "Successfully installed joblib-1.4.2 scikit-learn-1.5.2 scipy-1.14.1 threadpoolctl-3.5.0\n"
     ]
    },
    {
     "name": "stderr",
     "output_type": "stream",
     "text": [
      "\n",
      "[notice] A new release of pip is available: 24.2 -> 24.3.1\n",
      "[notice] To update, run: python.exe -m pip install --upgrade pip\n"
     ]
    }
   ],
   "source": [
    "! pip install -U scikit-learn"
   ]
  },
  {
   "cell_type": "code",
   "execution_count": 5,
   "id": "e004d502-90e2-46f8-84a9-7e67c707bbe2",
   "metadata": {},
   "outputs": [
    {
     "name": "stdout",
     "output_type": "stream",
     "text": [
      "Dataset Shape: (891, 12)\n",
      "Columns: ['PassengerId', 'Survived', 'Pclass', 'Name', 'Sex', 'Age', 'SibSp', 'Parch', 'Ticket', 'Fare', 'Cabin', 'Embarked']\n",
      "First 5 rows:\n",
      "   PassengerId  Survived  Pclass  \\\n",
      "0            1         0       3   \n",
      "1            2         1       1   \n",
      "2            3         1       3   \n",
      "3            4         1       1   \n",
      "4            5         0       3   \n",
      "\n",
      "                                                Name     Sex   Age  SibSp  \\\n",
      "0                            Braund, Mr. Owen Harris    male  22.0      1   \n",
      "1  Cumings, Mrs. John Bradley (Florence Briggs Th...  female  38.0      1   \n",
      "2                             Heikkinen, Miss. Laina  female  26.0      0   \n",
      "3       Futrelle, Mrs. Jacques Heath (Lily May Peel)  female  35.0      1   \n",
      "4                           Allen, Mr. William Henry    male  35.0      0   \n",
      "\n",
      "   Parch            Ticket     Fare Cabin Embarked  \n",
      "0      0         A/5 21171   7.2500   NaN        S  \n",
      "1      0          PC 17599  71.2833   C85        C  \n",
      "2      0  STON/O2. 3101282   7.9250   NaN        S  \n",
      "3      0            113803  53.1000  C123        S  \n",
      "4      0            373450   8.0500   NaN        S  \n"
     ]
    }
   ],
   "source": [
    "import pandas as pd\n",
    "\n",
    "# Load dataset\n",
    "url = \"https://raw.githubusercontent.com/datasciencedojo/datasets/master/titanic.csv\"\n",
    "data = pd.read_csv(url)\n",
    "\n",
    "# Display dataset details\n",
    "print(f\"Dataset Shape: {data.shape}\")\n",
    "print(f\"Columns: {data.columns.tolist()}\")\n",
    "print(\"First 5 rows:\")\n",
    "print(data.head())"
   ]
  },
  {
   "cell_type": "code",
   "execution_count": 7,
   "id": "0d7f3f82-fb61-45a7-a78b-53f7f19489db",
   "metadata": {},
   "outputs": [],
   "source": [
    "# Data Cleaning without inplace=True\n",
    "data['Age'] = data['Age'].fillna(data['Age'].mean())  # Fill missing ages with mean\n",
    "data['Fare'] = data['Fare'].fillna(data['Fare'].mean())  # Fill missing fares with mean\n",
    "\n",
    "# Encoding Gender\n",
    "data['Gender'] = data['Sex'].map({'male': 0, 'female': 1})\n"
   ]
  },
  {
   "cell_type": "code",
   "execution_count": 8,
   "id": "54622280-622d-498e-aa1c-920060d7509a",
   "metadata": {},
   "outputs": [
    {
     "name": "stdout",
     "output_type": "stream",
     "text": [
      "Accuracy: 0.80\n",
      "Classification Report:\n",
      "              precision    recall  f1-score   support\n",
      "\n",
      "           0       0.80      0.88      0.84       157\n",
      "           1       0.80      0.68      0.74       111\n",
      "\n",
      "    accuracy                           0.80       268\n",
      "   macro avg       0.80      0.78      0.79       268\n",
      "weighted avg       0.80      0.80      0.80       268\n",
      "\n"
     ]
    }
   ],
   "source": [
    "from sklearn.model_selection import train_test_split\n",
    "from sklearn.ensemble import RandomForestClassifier\n",
    "from sklearn.metrics import accuracy_score, classification_report\n",
    "\n",
    "# Split data\n",
    "X_train, X_test, y_train, y_test = train_test_split(X, y, test_size=0.3, random_state=42)\n",
    "\n",
    "# Train Random Forest model\n",
    "model = RandomForestClassifier(n_estimators=100, random_state=42)\n",
    "model.fit(X_train, y_train)\n",
    "\n",
    "# Evaluate model\n",
    "y_pred = model.predict(X_test)\n",
    "print(f\"Accuracy: {accuracy_score(y_test, y_pred):.2f}\")\n",
    "print(\"Classification Report:\")\n",
    "print(classification_report(y_test, y_pred))"
   ]
  },
  {
   "cell_type": "code",
   "execution_count": 10,
   "id": "ddc5ecbd-1e8f-487a-b89f-5f7c742c5296",
   "metadata": {},
   "outputs": [
    {
     "name": "stdout",
     "output_type": "stream",
     "text": [
      "Prediction: Survived\n"
     ]
    }
   ],
   "source": [
    "import pandas as pd\n",
    "\n",
    "# Create a DataFrame for the new passenger\n",
    "new_passenger = pd.DataFrame([[3, 28, 1, 7.25]], columns=['Pclass', 'Age', 'Gender', 'Fare'])\n",
    "\n",
    "# Predict survival for the new passenger\n",
    "prediction = model.predict(new_passenger)\n",
    "\n",
    "# Interpret output\n",
    "if prediction[0] == 1:\n",
    "    print(\"Prediction: Survived\")\n",
    "else:\n",
    "    print(\"Prediction: Did Not Survive\")\n"
   ]
  },
  {
   "cell_type": "code",
   "execution_count": null,
   "id": "99bd0d64-3159-4d6e-b31a-742250bbc006",
   "metadata": {},
   "outputs": [],
   "source": []
  }
 ],
 "metadata": {
  "kernelspec": {
   "display_name": "Python 3 (ipykernel)",
   "language": "python",
   "name": "python3"
  },
  "language_info": {
   "codemirror_mode": {
    "name": "ipython",
    "version": 3
   },
   "file_extension": ".py",
   "mimetype": "text/x-python",
   "name": "python",
   "nbconvert_exporter": "python",
   "pygments_lexer": "ipython3",
   "version": "3.13.0"
  }
 },
 "nbformat": 4,
 "nbformat_minor": 5
}
