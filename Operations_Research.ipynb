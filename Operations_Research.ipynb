{
 "cells": [
  {
   "cell_type": "code",
   "execution_count": 1,
   "id": "e0c34d41-9766-4a96-8f90-969b71926c61",
   "metadata": {},
   "outputs": [
    {
     "name": "stdout",
     "output_type": "stream",
     "text": [
      "Optimal Dispatch Plan:\n",
      "Trips to Location_A: 1.0\n",
      "Trips to Location_B: 1.0\n",
      "Trips to Location_C: 2.0\n",
      "Total Cost: 650.0\n"
     ]
    }
   ],
   "source": [
    "from pulp import LpProblem, LpMinimize, LpVariable, lpSum\n",
    "\n",
    "# Inputs\n",
    "destinations = ['Location_A', 'Location_B', 'Location_C']\n",
    "costs = [100, 150, 200]\n",
    "demand = [10, 20, 30]\n",
    "truck_capacity = 20\n",
    "\n",
    "# Decision Variables\n",
    "trips = {d: LpVariable(f\"Trips_to_{d}\", lowBound=0, cat='Integer') for d in destinations}\n",
    "\n",
    "# Problem Definition\n",
    "problem = LpProblem(\"Dispatch_Planning\", LpMinimize)\n",
    "\n",
    "# Objective Function\n",
    "problem += lpSum([trips[d] * costs[i] for i, d in enumerate(destinations)])\n",
    "\n",
    "# Constraints\n",
    "for i, d in enumerate(destinations):\n",
    "    problem += trips[d] * truck_capacity >= demand[i], f\"Demand_for_{d}\"\n",
    "\n",
    "# Solve Problem\n",
    "problem.solve()\n",
    "\n",
    "# Results\n",
    "print(\"Optimal Dispatch Plan:\")\n",
    "for d in destinations:\n",
    "    print(f\"Trips to {d}: {trips[d].varValue}\")\n",
    "print(f\"Total Cost: {problem.objective.value()}\")\n"
   ]
  },
  {
   "cell_type": "code",
   "execution_count": 1,
   "id": "6ab2ac64-8ce0-4810-b553-8270ac53aca9",
   "metadata": {},
   "outputs": [
    {
     "name": "stdout",
     "output_type": "stream",
     "text": [
      "Requirement already satisfied: pulp in c:\\users\\girish\\appdata\\local\\programs\\python\\python312\\lib\\site-packages (2.9.0)\n"
     ]
    },
    {
     "name": "stderr",
     "output_type": "stream",
     "text": [
      "\n",
      "[notice] A new release of pip is available: 24.2 -> 24.3.1\n",
      "[notice] To update, run: python.exe -m pip install --upgrade pip\n"
     ]
    }
   ],
   "source": [
    "! pip install pulp"
   ]
  },
  {
   "cell_type": "code",
   "execution_count": 2,
   "id": "9ad3c5ed-7379-41c6-9cf2-22d8d5061087",
   "metadata": {},
   "outputs": [
    {
     "name": "stdout",
     "output_type": "stream",
     "text": [
      "Requirement already satisfied: ortools in c:\\users\\girish\\appdata\\local\\programs\\python\\python312\\lib\\site-packages (9.11.4210)\n",
      "Requirement already satisfied: absl-py>=2.0.0 in c:\\users\\girish\\appdata\\local\\programs\\python\\python312\\lib\\site-packages (from ortools) (2.1.0)\n",
      "Requirement already satisfied: numpy>=1.13.3 in c:\\users\\girish\\appdata\\local\\programs\\python\\python312\\lib\\site-packages (from ortools) (2.1.3)\n",
      "Requirement already satisfied: pandas>=2.0.0 in c:\\users\\girish\\appdata\\local\\programs\\python\\python312\\lib\\site-packages (from ortools) (2.2.3)\n",
      "Requirement already satisfied: protobuf<5.27,>=5.26.1 in c:\\users\\girish\\appdata\\local\\programs\\python\\python312\\lib\\site-packages (from ortools) (5.26.1)\n",
      "Requirement already satisfied: immutabledict>=3.0.0 in c:\\users\\girish\\appdata\\local\\programs\\python\\python312\\lib\\site-packages (from ortools) (4.2.0)\n",
      "Requirement already satisfied: python-dateutil>=2.8.2 in c:\\users\\girish\\appdata\\local\\programs\\python\\python312\\lib\\site-packages (from pandas>=2.0.0->ortools) (2.9.0.post0)\n",
      "Requirement already satisfied: pytz>=2020.1 in c:\\users\\girish\\appdata\\local\\programs\\python\\python312\\lib\\site-packages (from pandas>=2.0.0->ortools) (2024.2)\n",
      "Requirement already satisfied: tzdata>=2022.7 in c:\\users\\girish\\appdata\\local\\programs\\python\\python312\\lib\\site-packages (from pandas>=2.0.0->ortools) (2024.2)\n",
      "Requirement already satisfied: six>=1.5 in c:\\users\\girish\\appdata\\local\\programs\\python\\python312\\lib\\site-packages (from python-dateutil>=2.8.2->pandas>=2.0.0->ortools) (1.16.0)\n"
     ]
    },
    {
     "name": "stderr",
     "output_type": "stream",
     "text": [
      "\n",
      "[notice] A new release of pip is available: 24.2 -> 24.3.1\n",
      "[notice] To update, run: python.exe -m pip install --upgrade pip\n"
     ]
    }
   ],
   "source": [
    "! pip install ortools\n"
   ]
  },
  {
   "cell_type": "code",
   "execution_count": 9,
   "id": "06daddbf-6c62-43d9-94a1-b57ef90a00de",
   "metadata": {},
   "outputs": [
    {
     "name": "stdout",
     "output_type": "stream",
     "text": [
      "64bit\n"
     ]
    }
   ],
   "source": [
    "! python -c \"import platform; print(platform.architecture()[0])\"\n"
   ]
  },
  {
   "cell_type": "code",
   "execution_count": 11,
   "id": "40d88462-58e9-4b38-a89f-3d45ff844c12",
   "metadata": {},
   "outputs": [
    {
     "name": "stdout",
     "output_type": "stream",
     "text": [
      "Python 3.13.0\n"
     ]
    }
   ],
   "source": [
    "! python --version\n"
   ]
  },
  {
   "cell_type": "code",
   "execution_count": 3,
   "id": "ffb21022-c457-4041-b70a-a9670c9dbf79",
   "metadata": {},
   "outputs": [
    {
     "name": "stdout",
     "output_type": "stream",
     "text": [
      "Optimal Packing Plan:\n",
      "Package P1: Selected\n",
      "Package P2: Selected\n",
      "Package P3: Selected\n",
      "Total Used Volume: 9.0\n"
     ]
    }
   ],
   "source": [
    "from ortools.linear_solver import pywraplp\n",
    "\n",
    "# Inputs\n",
    "packages = [{'name': 'P1', 'volume': 3}, {'name': 'P2', 'volume': 2}, {'name': 'P3', 'volume': 4}]\n",
    "truck_capacity = 10\n",
    "\n",
    "# Solver\n",
    "solver = pywraplp.Solver.CreateSolver('SCIP')\n",
    "x = {p['name']: solver.IntVar(0, 1, p['name']) for p in packages}\n",
    "\n",
    "# Constraints\n",
    "solver.Add(solver.Sum([x[p['name']] * p['volume'] for p in packages]) <= truck_capacity)\n",
    "\n",
    "# Objective\n",
    "solver.Maximize(solver.Sum([x[p['name']] * p['volume'] for p in packages]))\n",
    "\n",
    "# Solve\n",
    "status = solver.Solve()\n",
    "if status == pywraplp.Solver.OPTIMAL:\n",
    "    print(\"Optimal Packing Plan:\")\n",
    "    for p in packages:\n",
    "        print(f\"Package {p['name']}: {'Selected' if x[p['name']].solution_value() else 'Not Selected'}\")\n",
    "    print(\"Total Used Volume:\", sum(x[p['name']].solution_value() * p['volume'] for p in packages))\n",
    "else:\n",
    "    print(\"No solution found.\")\n"
   ]
  },
  {
   "cell_type": "code",
   "execution_count": 7,
   "id": "025916a9-11c4-48a9-bc8b-df5f754deea0",
   "metadata": {},
   "outputs": [
    {
     "name": "stdout",
     "output_type": "stream",
     "text": [
      "Python 3.12.7\n"
     ]
    }
   ],
   "source": [
    "! python --version\n"
   ]
  },
  {
   "cell_type": "code",
   "execution_count": 11,
   "id": "4bed003c-3890-4185-b78c-b3bcb8189283",
   "metadata": {},
   "outputs": [
    {
     "name": "stdout",
     "output_type": "stream",
     "text": [
      "Requirement already satisfied: ortools in c:\\users\\girish\\appdata\\local\\programs\\python\\python312\\lib\\site-packages (9.11.4210)\n",
      "Requirement already satisfied: absl-py>=2.0.0 in c:\\users\\girish\\appdata\\local\\programs\\python\\python312\\lib\\site-packages (from ortools) (2.1.0)\n",
      "Requirement already satisfied: numpy>=1.13.3 in c:\\users\\girish\\appdata\\local\\programs\\python\\python312\\lib\\site-packages (from ortools) (2.1.3)\n",
      "Requirement already satisfied: pandas>=2.0.0 in c:\\users\\girish\\appdata\\local\\programs\\python\\python312\\lib\\site-packages (from ortools) (2.2.3)\n",
      "Requirement already satisfied: protobuf<5.27,>=5.26.1 in c:\\users\\girish\\appdata\\local\\programs\\python\\python312\\lib\\site-packages (from ortools) (5.26.1)\n",
      "Requirement already satisfied: immutabledict>=3.0.0 in c:\\users\\girish\\appdata\\local\\programs\\python\\python312\\lib\\site-packages (from ortools) (4.2.0)\n",
      "Requirement already satisfied: python-dateutil>=2.8.2 in c:\\users\\girish\\appdata\\local\\programs\\python\\python312\\lib\\site-packages (from pandas>=2.0.0->ortools) (2.9.0.post0)\n",
      "Requirement already satisfied: pytz>=2020.1 in c:\\users\\girish\\appdata\\local\\programs\\python\\python312\\lib\\site-packages (from pandas>=2.0.0->ortools) (2024.2)\n",
      "Requirement already satisfied: tzdata>=2022.7 in c:\\users\\girish\\appdata\\local\\programs\\python\\python312\\lib\\site-packages (from pandas>=2.0.0->ortools) (2024.2)\n",
      "Requirement already satisfied: six>=1.5 in c:\\users\\girish\\appdata\\local\\programs\\python\\python312\\lib\\site-packages (from python-dateutil>=2.8.2->pandas>=2.0.0->ortools) (1.16.0)\n"
     ]
    },
    {
     "name": "stderr",
     "output_type": "stream",
     "text": [
      "\n",
      "[notice] A new release of pip is available: 24.2 -> 24.3.1\n",
      "[notice] To update, run: python.exe -m pip install --upgrade pip\n"
     ]
    }
   ],
   "source": [
    "!pip install ortools\n"
   ]
  },
  {
   "cell_type": "code",
   "execution_count": 4,
   "id": "3aeae09a-b26e-44ff-a2d0-333f3352df9b",
   "metadata": {},
   "outputs": [
    {
     "name": "stdout",
     "output_type": "stream",
     "text": [
      "Production Plan:\n",
      "Product_A: 20.0\n",
      "Product_B: 0.0\n",
      "Total Profit: 999.9999999999999\n"
     ]
    }
   ],
   "source": [
    "from ortools.linear_solver import pywraplp\n",
    "\n",
    "# Inputs\n",
    "products = [{'name': 'Product_A', 'labor_hours': 2, 'profit': 50},\n",
    "            {'name': 'Product_B', 'labor_hours': 3, 'profit': 70}]\n",
    "available_hours = 40\n",
    "\n",
    "# Solver\n",
    "solver = pywraplp.Solver.CreateSolver('SCIP')\n",
    "x = {p['name']: solver.IntVar(0, solver.infinity(), p['name']) for p in products}\n",
    "\n",
    "# Constraints\n",
    "solver.Add(solver.Sum([x[p['name']] * p['labor_hours'] for p in products]) <= available_hours)\n",
    "\n",
    "# Objective\n",
    "solver.Maximize(solver.Sum([x[p['name']] * p['profit'] for p in products]))\n",
    "\n",
    "# Solve\n",
    "status = solver.Solve()\n",
    "if status == pywraplp.Solver.OPTIMAL:\n",
    "    print(\"Production Plan:\")\n",
    "    for p in products:\n",
    "        print(f\"{p['name']}: {x[p['name']].solution_value()}\")\n",
    "    print(\"Total Profit:\", solver.Objective().Value())\n",
    "else:\n",
    "    print(\"No solution found.\")\n"
   ]
  },
  {
   "cell_type": "code",
   "execution_count": 5,
   "id": "ba5ad633-683a-4410-b6e2-c62d03483bef",
   "metadata": {},
   "outputs": [
    {
     "name": "stdout",
     "output_type": "stream",
     "text": [
      "Optimal Transportation Plan:\n",
      "Tons via Road: 10.0\n",
      "Tons via Rail: 50.0\n",
      "Tons via Air: 0.0\n",
      "Total Transportation Cost: 4500.0\n"
     ]
    }
   ],
   "source": [
    "from pulp import LpProblem, LpMinimize, LpVariable, lpSum\n",
    "\n",
    "# Inputs\n",
    "modes = ['Road', 'Rail', 'Air']\n",
    "costs = {'Road': 100, 'Rail': 70, 'Air': 200}\n",
    "capacity = {'Road': 30, 'Rail': 50, 'Air': 10}\n",
    "demand = 60\n",
    "\n",
    "# Decision Variables\n",
    "x = {mode: LpVariable(f\"Transport_{mode}\", lowBound=0, cat='Continuous') for mode in modes}\n",
    "\n",
    "# Problem Definition\n",
    "problem = LpProblem(\"Transportation_Planning\", LpMinimize)\n",
    "\n",
    "# Objective Function\n",
    "problem += lpSum([x[mode] * costs[mode] for mode in modes]), \"Total_Cost\"\n",
    "\n",
    "# Constraints\n",
    "problem += lpSum([x[mode] for mode in modes]) == demand\n",
    "for mode in modes:\n",
    "    problem += x[mode] <= capacity[mode]\n",
    "\n",
    "# Solve\n",
    "problem.solve()\n",
    "\n",
    "# Results\n",
    "print(\"Optimal Transportation Plan:\")\n",
    "for mode in modes:\n",
    "    print(f\"Tons via {mode}: {x[mode].varValue}\")\n",
    "print(f\"Total Transportation Cost: {problem.objective.value()}\")\n"
   ]
  },
  {
   "cell_type": "code",
   "execution_count": 6,
   "id": "a6470dd2-a9f0-46b5-963d-54d29e2f88a2",
   "metadata": {},
   "outputs": [
    {
     "name": "stdout",
     "output_type": "stream",
     "text": [
      "Optimal Dispatch Plan:\n",
      "Trips to Location_A: 1.0\n",
      "Trips to Location_B: 1.0\n",
      "Trips to Location_C: 2.0\n",
      "Total Cost: 650.0\n"
     ]
    }
   ],
   "source": [
    "from pulp import LpProblem, LpMinimize, LpVariable, lpSum, PULP_CBC_CMD, GLPK_CMD\n",
    "\n",
    "# Inputs\n",
    "destinations = ['Location_A', 'Location_B', 'Location_C']\n",
    "costs = [100, 150, 200]\n",
    "demand = [10, 20, 30]\n",
    "truck_capacity = 20\n",
    "\n",
    "# Decision Variables\n",
    "trips = {d: LpVariable(f\"Trips_to_{d}\", lowBound=0, cat='Integer') for d in destinations}\n",
    "\n",
    "# Problem Definition\n",
    "problem = LpProblem(\"Dispatch_Planning\", LpMinimize)\n",
    "\n",
    "# Objective Function\n",
    "problem += lpSum([trips[d] * costs[i] for i, d in enumerate(destinations)])\n",
    "\n",
    "# Constraints\n",
    "for i, d in enumerate(destinations):\n",
    "    problem += trips[d] * truck_capacity >= demand[i], f\"Demand_for_{d}\"\n",
    "\n",
    "# Solve using a specific solver\n",
    "# Example 1: Default CBC Solver\n",
    "problem.solve(PULP_CBC_CMD())\n",
    "\n",
    "# Example 2: GLPK Solver\n",
    "# Uncomment the line below to use GLPK solver\n",
    "# problem.solve(GLPK_CMD())\n",
    "\n",
    "# Results\n",
    "print(\"Optimal Dispatch Plan:\")\n",
    "for d in destinations:\n",
    "    print(f\"Trips to {d}: {trips[d].varValue}\")\n",
    "print(f\"Total Cost: {problem.objective.value()}\")\n"
   ]
  },
  {
   "cell_type": "code",
   "execution_count": 7,
   "id": "dfd05b88-8bd6-42c5-a012-92af3a99a4de",
   "metadata": {},
   "outputs": [
    {
     "name": "stdout",
     "output_type": "stream",
     "text": [
      "Optimal Dispatch Plan:\n",
      "Trips to Location_A: 1.0\n",
      "Trips to Location_B: 1.0\n",
      "Trips to Location_C: 2.0\n",
      "Total Cost: 650.0\n"
     ]
    }
   ],
   "source": [
    "from pulp import LpProblem, LpMinimize, LpVariable, lpSum, PULP_CBC_CMD, GLPK_CMD\n",
    "\n",
    "# Inputs\n",
    "destinations = ['Location_A', 'Location_B', 'Location_C']\n",
    "costs = [100, 150, 200]\n",
    "demand = [10, 20, 30]\n",
    "truck_capacity = 20\n",
    "\n",
    "# Decision Variables\n",
    "trips = {d: LpVariable(f\"Trips_to_{d}\", lowBound=0, cat='Integer') for d in destinations}\n",
    "\n",
    "# Problem Definition\n",
    "problem = LpProblem(\"Dispatch_Planning\", LpMinimize)\n",
    "\n",
    "# Objective Function\n",
    "problem += lpSum([trips[d] * costs[i] for i, d in enumerate(destinations)])\n",
    "\n",
    "# Constraints\n",
    "for i, d in enumerate(destinations):\n",
    "    problem += trips[d] * truck_capacity >= demand[i], f\"Demand_for_{d}\"\n",
    "\n",
    "# Solve using a specific solver\n",
    "# Example 1: Default CBC Solver\n",
    "problem.solve(PULP_CBC_CMD())\n",
    "\n",
    "# Example 2: GLPK Solver\n",
    "# Uncomment the line below to use GLPK solver\n",
    "# problem.solve(GLPK_CMD())\n",
    "\n",
    "# Results\n",
    "print(\"Optimal Dispatch Plan:\")\n",
    "for d in destinations:\n",
    "    print(f\"Trips to {d}: {trips[d].varValue}\")\n",
    "print(f\"Total Cost: {problem.objective.value()}\")\n"
   ]
  },
  {
   "cell_type": "code",
   "execution_count": 8,
   "id": "b6cd444e-7f66-4195-ac52-fc5d4bd832b2",
   "metadata": {},
   "outputs": [
    {
     "name": "stdout",
     "output_type": "stream",
     "text": [
      "Optimal Packing Plan:\n",
      "Package P1: Selected\n",
      "Package P2: Selected\n",
      "Package P3: Selected\n",
      "Total Used Volume: 9.0\n"
     ]
    }
   ],
   "source": [
    "from ortools.linear_solver import pywraplp\n",
    "\n",
    "# Inputs\n",
    "packages = [{'name': 'P1', 'volume': 3}, {'name': 'P2', 'volume': 2}, {'name': 'P3', 'volume': 4}]\n",
    "truck_capacity = 10\n",
    "\n",
    "# Solver\n",
    "solver = pywraplp.Solver.CreateSolver('SCIP')\n",
    "x = {p['name']: solver.IntVar(0, 1, p['name']) for p in packages}\n",
    "\n",
    "# Constraints\n",
    "solver.Add(solver.Sum([x[p['name']] * p['volume'] for p in packages]) <= truck_capacity)\n",
    "\n",
    "# Objective\n",
    "solver.Maximize(solver.Sum([x[p['name']] * p['volume'] for p in packages]))\n",
    "\n",
    "# Solve\n",
    "status = solver.Solve()\n",
    "if status == pywraplp.Solver.OPTIMAL:\n",
    "    print(\"Optimal Packing Plan:\")\n",
    "    for p in packages:\n",
    "        print(f\"Package {p['name']}: {'Selected' if x[p['name']].solution_value() else 'Not Selected'}\")\n",
    "    print(\"Total Used Volume:\", sum(x[p['name']].solution_value() * p['volume'] for p in packages))"
   ]
  },
  {
   "cell_type": "code",
   "execution_count": 9,
   "id": "d139f4ae-982b-4819-af15-c2fec526cacb",
   "metadata": {},
   "outputs": [
    {
     "name": "stdout",
     "output_type": "stream",
     "text": [
      "Production Plan:\n",
      "A: 20.0\n",
      "B: 0.0\n",
      "Total Profit: 999.9999999999999\n"
     ]
    }
   ],
   "source": [
    "from ortools.linear_solver import pywraplp\n",
    "\n",
    "# Inputs\n",
    "products = [{'name': 'A', 'labor_hours': 2, 'profit': 50}, {'name': 'B', 'labor_hours': 3, 'profit': 70}]\n",
    "available_hours = 40\n",
    "\n",
    "# Solver\n",
    "solver = pywraplp.Solver.CreateSolver('SCIP')\n",
    "x = {p['name']: solver.IntVar(0, solver.infinity(), p['name']) for p in products}\n",
    "\n",
    "# Constraints\n",
    "solver.Add(solver.Sum([x[p['name']] * p['labor_hours'] for p in products]) <= available_hours)\n",
    "\n",
    "# Objective\n",
    "solver.Maximize(solver.Sum([x[p['name']] * p['profit'] for p in products]))\n",
    "\n",
    "# Solve\n",
    "status = solver.Solve()\n",
    "if status == pywraplp.Solver.OPTIMAL:\n",
    "    print(\"Production Plan:\")\n",
    "    for p in products:\n",
    "        print(f\"{p['name']}: {x[p['name']].solution_value()}\")\n",
    "    print(\"Total Profit:\", solver.Objective().Value())"
   ]
  },
  {
   "cell_type": "code",
   "execution_count": null,
   "id": "aaa5ce0c-c879-46ef-b650-4a1beb208f61",
   "metadata": {},
   "outputs": [],
   "source": []
  }
 ],
 "metadata": {
  "kernelspec": {
   "display_name": "Python 3 (ipykernel)",
   "language": "python",
   "name": "python3"
  },
  "language_info": {
   "codemirror_mode": {
    "name": "ipython",
    "version": 3
   },
   "file_extension": ".py",
   "mimetype": "text/x-python",
   "name": "python",
   "nbconvert_exporter": "python",
   "pygments_lexer": "ipython3",
   "version": "3.12.7"
  }
 },
 "nbformat": 4,
 "nbformat_minor": 5
}
